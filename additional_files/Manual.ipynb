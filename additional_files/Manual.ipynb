{
 "cells": [
  {
   "cell_type": "markdown",
   "id": "cd47c157",
   "metadata": {},
   "source": [
    "<h1 size='24' align=\"center\">Project Manual</h1>\n",
    "\n",
    "\n",
    "The following document is part of an internship and my first project assigned, doing some web scrapping by an ETL process through an internal file used to search no. parts required making price comparison between internal data and from web pages. \n",
    "This manual sample describes many things as a general overview for my team and supervisor of what was done.\n",
    "Due to first implementations of Python, many terms were described as for general knowledge."
   ]
  },
  {
   "cell_type": "markdown",
   "id": "ba5ad1ad",
   "metadata": {},
   "source": [
    "### **Given the confidential nature of the project, certain data and information presented on this notebook have been intentionally modified or omitted to ensure the protection of sensitive details.**"
   ]
  },
  {
   "cell_type": "markdown",
   "id": "3304cf12",
   "metadata": {},
   "source": [
    "### Table of Contents:\n",
    "* [1. Introduction](#1.-Introduction)\n",
    "    * [1.1 Overview](#1.1-Overview)\n",
    "      * [1.1.1 Target and Reason for the Notebook](#1.1.1-Target-and-Reason-for-the-Notebook)\n",
    "      * [1.1.2 Benefits](#1.1.2-Benefits)\n",
    "* [2. System Requirements, Installation, and Settings](#2.-System-Requirements,-Installation,-and-Settings)\n",
    "  * [2.1 Anaconda](#2.1-Anaconda)\n",
    "  * [2.2 Microsoft Edge Webriver](#2.2-Microsoft-Edge-Webriver)\n",
    "  * [2.3 Required Packages and Modules](#2.3-Required-Packages-and-Modules)\n",
    "     * [2.3.1 Pandas](#2.3.1-Pandas)\n",
    "     * [2.3.2 Selenium](#2.3.2-Selenium)\n",
    "     * [2.3.3 Custom functions](#2.3.3-Custom-functions)\n",
    "  * [2.4 SMTP module](#2.4-SMTP-module)\n",
    "      * [2.4.1 Attributes of the Email Class](#2.4.1-Attributes-of-the-Email-Class)\n",
    "      * [2.4.2 Methods of the Email Class](#2.4.2-Methods-of-the-Email-Class)\n",
    "* [3. Register](#3.-Register)\n",
    "     * [3.1 Register Format XSLX File](#3.1-Register-Format-XSLX-File)\n",
    "     * [3.2 Register Format SMTP](#3.2-Register-Format-SMTP)\n",
    "* [4. Data Handling](#4.-Data-Handling)\n",
    "     * [4.1 Paths Employed](#4.1-Paths-Employed)\n",
    "     * [4.2 Global Variables](#4.2-Global-Variables)\n",
    "* [5. Troubleshooting](#5.-Troubleshooting)\n",
    "    * [5.1 Contact Information for Technical Support](#5.1-Contact-Information-for-Technical-Support)\n",
    "* [6. References](#6.-References)"
   ]
  },
  {
   "cell_type": "markdown",
   "id": "fd001460",
   "metadata": {},
   "source": [
    "# 1. Introduction"
   ]
  },
  {
   "cell_type": "markdown",
   "id": "f5383565",
   "metadata": {},
   "source": [
    "## 1.1 Overview"
   ]
  },
  {
   "cell_type": "markdown",
   "id": "783a0df5",
   "metadata": {},
   "source": [
    "The program is a Python-based solution that automates the extraction of data from two websites to pull data from xlsx files using pandas. The program is designed to run every morning to gather the most recent data.\n"
   ]
  },
  {
   "cell_type": "markdown",
   "id": "2b7ba8ef",
   "metadata": {},
   "source": [
    "### 1.1.1 Target and Reason for the Notebook"
   ]
  },
  {
   "cell_type": "markdown",
   "id": "02809199",
   "metadata": {},
   "source": [
    "* The objective of this notebook is to provide a comprehensive guide on how the Python program works for data extraction and web scraping.\n",
    "\n",
    "* The purpose of this manual is to provide a detailed guide for using the program, including step-by-step instructions, examples, and useful tips.\n",
    "\n",
    "* Assist users in improving their efficiency and accuracy in data gathering and analysis by automating repetitive tasks."
   ]
  },
  {
   "cell_type": "markdown",
   "id": "ac97b409",
   "metadata": {},
   "source": [
    "### 1.1.2 Benefits"
   ]
  },
  {
   "cell_type": "markdown",
   "id": "3b8b9ad2",
   "metadata": {},
   "source": [
    "* _**Saves time:**_ The program automates the data extraction and web scraping process, saving users time and effort.\n",
    "* _**Improves accuracy:**_ The program ensures precise data extraction and scraping, eliminating errors and inconsistencies.\n",
    "* _**Increases efficiency:**_ The program enhances the efficiency of data collection and analysis, allowing users to make better decisions based on the most recent data."
   ]
  },
  {
   "cell_type": "markdown",
   "id": "f0ccd74d",
   "metadata": {},
   "source": [
    "# 2. System Requirements, Installation, and Settings"
   ]
  },
  {
   "cell_type": "markdown",
   "id": "db48113e",
   "metadata": {},
   "source": [
    "The program requires **Python 3.7.x** or a later version, along with specific modules and **Windows** with **Edge** browser"
   ]
  },
  {
   "cell_type": "markdown",
   "id": "f06d7cb1",
   "metadata": {},
   "source": [
    "## 2.1 Anaconda [1]"
   ]
  },
  {
   "cell_type": "markdown",
   "id": "8a7e225a",
   "metadata": {},
   "source": [
    "Anaconda is a free and open-source distribution of Python and R, encompassing over 1,000 preinstalled software packages for data analysis, machine learning, artificial intelligence, and natural language processing. Anaconda also offers a package manager, an integrated development environment (IDE), and other tools that streamline the installation, setup, and management of software libraries and packages.\n",
    "\n",
    "Anaconda is highly regarded among data scientists, data analysts, machine learning engineers, and other professionals engaged in data and data analysis. It empowers users to effortlessly install and manage different versions of Python, R, and other software packages in an isolated and controlled environment, thereby simplifying the development of portable and scalable applications.\n",
    "\n",
    "Some of the most notable features of Anaconda include:\n",
    "\n",
    "*    **Package Management:** Anaconda offers a robust package manager that allows users to effortlessly install, update, and uninstall software packages and libraries.\n",
    "*    **Virtual Environments:** Anaconda enables users to create and manage distinct virtual environments, simplifying the handling of various Python versions and software packages.\n",
    "*    **IDE:** Anaconda comes with an IDE named Spyder, which provides code development and debugging tools for Python and R.\n",
    "*    **Collaboration:** Anaconda facilitates users to easily share their environments and packages with other users via the cloud or version repositories.\n",
    "\n",
    "It is the primary engine of the program, making it essential for code editing. Without it, individual installation of software packages and libraries will be necessary."
   ]
  },
  {
   "cell_type": "markdown",
   "id": "22da474c",
   "metadata": {},
   "source": [
    "## 2.2 Microsoft Edge Webriver [2]"
   ]
  },
  {
   "cell_type": "markdown",
   "id": "060fca84",
   "metadata": {},
   "source": [
    "To automate tests in the Microsoft Edge browser using the Selenium test automation library, a Microsoft Edge driver is required to allow Selenium to interact with the browser. This driver is known as Microsoft WebDriver.\n",
    "\n",
    "Microsoft WebDriver is a free driver available for download from Microsoft's official website. The version of the driver you'll need depends on the version of the Microsoft Edge browser you're using. For instance, if you're using Microsoft Edge version 93, you'll need the corresponding version of the Microsoft WebDriver for that specific version. The version as of the writing of this document is 110.0.1587.57.\n",
    "\n",
    "After downloading the driver, it's essential to add the location of the downloaded driver to the system's PATH, so Selenium can locate the driver during the execution of automated tests. Additionally, you must install the Microsoft Edge WebDriver package in Python, enabling Selenium to interact with the driver and the Microsoft Edge browser. This topic will be elaborated upon later in the Selenium section.\n",
    "\n",
    "In summary, the necessary driver for Edge with Selenium is the Microsoft WebDriver, which is freely available from Microsoft's official website. The version of the driver will depend on the version of the Microsoft Edge browser in use. It's essential to add the location of the downloaded driver to the system's PATH and install the Microsoft Edge WebDriver package in Python, ensuring that Selenium can interact with both the driver and the browser during test automation."
   ]
  },
  {
   "cell_type": "markdown",
   "id": "5c290cc7",
   "metadata": {},
   "source": [
    "# 2.3 Required Packages and Modules"
   ]
  },
  {
   "cell_type": "code",
   "execution_count": null,
   "id": "4dc72565",
   "metadata": {},
   "outputs": [],
   "source": [
    "import pandas as pd\n",
    "from selenium import webdriver\n",
    "from selenium.webdriver.common.keys import Keys\n",
    "from selenium.webdriver.common.by import By\n",
    "from selenium.webdriver import EdgeOptions\n",
    "from selenium.webdriver.edge.service import Service\n",
    "from selenium.common.exceptions import NoSuchElementException\n",
    "from selenium.webdriver.support.ui import WebDriverWait\n",
    "from selenium.webdriver.support import expected_conditions as EC\n",
    "from time import sleep\n",
    "from datetime import datetime\n",
    "from bose_email import Email\n",
    "import os\n",
    "import glob\n",
    "from selenium.webdriver import DesiredCapabilities"
   ]
  },
  {
   "cell_type": "markdown",
   "id": "29fe88b7",
   "metadata": {},
   "source": [
    "### 2.3.1 pandas [3]"
   ]
  },
  {
   "cell_type": "markdown",
   "id": "2998c4c5",
   "metadata": {},
   "source": [
    "pandas is an open-source Python library primarily used for data manipulation and analysis. It offers a flexible and high-performance data structure known as DataFrame, which resembles a database table and can be easily manipulated to perform filtering, sorting, and aggregation operations.\n",
    "\n",
    "Some of the most notable features of pandas include:\n",
    "\n",
    "*    **DataFrame:** The DataFrame data structure is pandas' primary object, representing data in a tabular format where each column can have a distinct data type. Various operations can be performed on a DataFrame, such as selecting and filtering rows and columns, creating new columns, and aggregating data.\n",
    "*    **Analysis Tools:** pandas also delivers tools for data analysis, such as descriptive statistics functions, time series manipulation, and data visualization capabilities.\n",
    "*    **Integration with Other Libraries:** pandas seamlessly integrates with other Python libraries used for data analysis, like NumPy, SciPy, and Matplotlib.\n",
    "*    **Data Input and Output:** pandas can read and write data in multiple formats, including CSV, Excel, SQL, and HDF5, making data import and export for analysis convenient. For the purposes of this program, we will utilize Excel (xlsx) and \".txt\" files.\n",
    "*    **Handling Missing Data:** pandas offers tools to manage missing or NaN (Not a Number) data, a common occurrence in most real-world datasets.\n",
    "\n",
    "It's a powerful and popular tool for professionals engaged in data and data analysis."
   ]
  },
  {
   "cell_type": "markdown",
   "id": "41d29f0f",
   "metadata": {},
   "source": [
    "### 2.3.2 Selenium [4]"
   ]
  },
  {
   "cell_type": "markdown",
   "id": "095b2a4f",
   "metadata": {},
   "source": [
    "Selenium is an open-source test automation library used for automating tests on web applications. It allows developers and test evaluators to create and run test scripts across various web browsers and operating systems.\n",
    "\n",
    "For the program to execute correctly, the Microsoft driver is stored on a server in a folder at the root directory (C:\\edgedriver_win64).\n",
    "\n",
    "Its installation is carried out through Anaconda with the command:\n",
    "\n",
    "        conda install selenium\n",
    "        \n",
    "It's essential to ensure that the installed version is 4.x; otherwise, the program won't be able to execute."
   ]
  },
  {
   "cell_type": "code",
   "execution_count": null,
   "id": "3a77a99c",
   "metadata": {},
   "outputs": [],
   "source": [
    "service = Service(r\"C:\\edgedriver_win64\\MicrosoftWebDriver.exe\")"
   ]
  },
  {
   "cell_type": "markdown",
   "id": "0ed83aab",
   "metadata": {},
   "source": [
    "The following variables are requirements for running Selenium without having the browser open, as well as arguments to avoid warnings."
   ]
  },
  {
   "cell_type": "code",
   "execution_count": null,
   "id": "841a98fd",
   "metadata": {},
   "outputs": [],
   "source": [
    "options = EdgeOptions()\n",
    "driver = webdriver.Edge(service=service,options=options)\n",
    "driver.maximize_window()\n",
    "cap = DesiredCapabilities().EDGE.copy()\n",
    "cap['acceptSslCerts'] = True\n",
    "cap['acceptInsecureCerts'] = True\n",
    "options.add_argument('--headless')\n",
    "options.add_argument('disable-gpu')\n",
    "options.add_experimental_option('excludeSwitches', ['enable-logging'])\n",
    "options.add_argument('log-level=3')\n",
    "driver = webdriver.Edge(service=service,options=options)\n",
    "driver.fullscreen_window = True"
   ]
  },
  {
   "cell_type": "markdown",
   "id": "628a67f2",
   "metadata": {},
   "source": [
    "The following functions primarily use Selenium, along with pandas for reading data from the HTML of each page."
   ]
  },
  {
   "cell_type": "code",
   "execution_count": null,
   "id": "d690e59a",
   "metadata": {},
   "outputs": [],
   "source": [
    "def newoemstrade(key):\n",
    "    nopart = key\n",
    "    driver.get('https://oemstrade.com')\n",
    "    element = driver.find_element(By.ID,'part')\n",
    "    element.send_keys(nopart)\n",
    "    element.send_keys(Keys.RETURN)\n",
    "    sleep(1)\n",
    "    try: \n",
    "        driver.find_element(By.CLASS_NAME,'no-results')\n",
    "        return pd.DataFrame()\n",
    "    except NoSuchElementException:\n",
    "        while True:\n",
    "            sleep(0.35)\n",
    "            try:\n",
    "                button_to_click = driver.find_element(By.CLASS_NAME,'show-more')\n",
    "                button_to_click.click()\n",
    "            except NoSuchElementException:\n",
    "                break\n",
    "        topd = []\n",
    "        # Wait for the elements to load\n",
    "        wait = WebDriverWait(driver, 5)\n",
    "        \n",
    "        tables = wait.until(EC.presence_of_all_elements_located((By.XPATH,'//div[contains(@class, \"distributor-results\")]')))\n",
    "        # Loop through each table and extract its content\n",
    "        for index, table in enumerate(tables):\n",
    "        # Convert the table to a Pandas DataFrame\n",
    "            minidf = pd.read_html(table.get_attribute(\"outerHTML\"))\n",
    "            minidf = pd.concat(minidf)\n",
    "            minidf = minidf.dropna(how='all')\n",
    "            h=table.find_element(By.CLASS_NAME,'distributor-title')\n",
    "            hpd = h.text\n",
    "            minidf['Distributor'] = hpd  \n",
    "            topd.append(minidf)\n",
    "        df = pd.concat(topd)\n",
    "        df.columns = columns\n",
    "        df['WEBSITE'] = webpages[0]\n",
    "        df['Stock']=df['Stock'].astype(str)\n",
    "        df['Stock'] = df['Stock'].str.extract('([0-9]+)')\n",
    "        return df"
   ]
  },
  {
   "cell_type": "code",
   "execution_count": null,
   "id": "ddbf0cc4",
   "metadata": {},
   "outputs": [],
   "source": [
    "def findchips(nopart):    \n",
    "    nopart = nopart\n",
    "    driver.get('https://www.findchips.com')\n",
    "    sleep(3)\n",
    "    element = driver.find_element(By.XPATH,'/html/body/div[1]/div/div/div[1]/div/form/span/input')\n",
    "    element.send_keys(nopart)\n",
    "    element.send_keys(Keys.RETURN)\n",
    "    try: \n",
    "        driver.find_element(By.CLASS_NAME,'no-results')\n",
    "        return pd.DataFrame()\n",
    "    except NoSuchElementException:\n",
    "        while True:\n",
    "            sleep(0.30)\n",
    "            try:\n",
    "                button_to_click = driver.find_element(By.XPATH,'//*[@id]/table/tbody/tr/td/ul/li/button')\n",
    "                button_to_click.click()\n",
    "            except NoSuchElementException:\n",
    "                break\n",
    "        # while True:\n",
    "        topd = []\n",
    "        distributors = driver.find_elements(By.CLASS_NAME,'distributor-results')\n",
    "        result_items = distributors\n",
    "        for index,result_item in enumerate(result_items):\n",
    "            item_class = result_item.get_attribute(\"outerHTML\")\n",
    "            minidf = pd.read_html(item_class)\n",
    "            minidf = pd.concat(minidf)\n",
    "            minidf = minidf.dropna(how='all')\n",
    "            h=result_item.find_element(By.CLASS_NAME,'distributor-title')\n",
    "            hpd = h.text\n",
    "            minidf['Distributor'] = hpd\n",
    "            topd.append(minidf)\n",
    "        df = pd.concat(topd,axis=0)\n",
    "        df.columns = columns\n",
    "        df['WEBSITE'] = webpages[1]\n",
    "        df['Stock']=df['Stock'].astype(str)\n",
    "        df['Stock'] = df['Stock'].str.extract('([0-9]+)') \n",
    "        return df"
   ]
  },
  {
   "cell_type": "markdown",
   "id": "a8df1c00",
   "metadata": {},
   "source": [
    "The site is navigated just as an individual usually would. Leveraging the attributes of the webpage, specific sections are accessed through their designated classes and their corresponding HTML Paths."
   ]
  },
  {
   "cell_type": "markdown",
   "id": "79fe250c",
   "metadata": {},
   "source": [
    "### 2.3.3 Custom functions"
   ]
  },
  {
   "cell_type": "code",
   "execution_count": null,
   "id": "dfb5c179",
   "metadata": {},
   "outputs": [],
   "source": [
    "def checklastfile(dir_tocheck,file_type):\n",
    "    \"\"\"\n",
    "    Check the last file on a certain directory based on date creation\n",
    "    ---Parameters---    \n",
    "    dir_tocheck : str, r'/...' Directory to check\n",
    "    file_type : str, r'\\*.file_type'\n",
    "        Use os and glob modules for checking directory and files\n",
    "    -----------    \n",
    "    ---Returns---\n",
    "    file : str, PATH of file\n",
    "    \"\"\"\n",
    "    os.chdir(dir_tocheck)\n",
    "    tempdir = os.getcwd()\n",
    "    files = glob.glob(fr'{tempdir}'+file_type)\n",
    "    file = max(files,key=os.path.getctime)\n",
    "    return file"
   ]
  },
  {
   "cell_type": "markdown",
   "id": "7d8d9a1b",
   "metadata": {},
   "source": [
    "Within the program, a function was developed to check the latest file created in a directory. This function takes parameters specifying the path to scan and the type of file to search for, with the flexibility to search for any file type. Additionally, this function can be used in other programs. It returns the most recently created file based on its creation date."
   ]
  },
  {
   "cell_type": "code",
   "execution_count": null,
   "id": "8daecfc2",
   "metadata": {},
   "outputs": [],
   "source": [
    "def join(nopart):\n",
    "    ''' 'join' Join both websites and deletes \"Buy\" column attached by web scrapping each webpage\n",
    "                        ---Parameters---\n",
    "                        nopart: str, Part number to search in both websites\n",
    "                        \n",
    "                        return Pandas Dataframe''' \n",
    "    o = newoemstrade(nopart)\n",
    "    f = findchips(nopart)\n",
    "    df = pd.concat([o,f])\n",
    "    del df['Buy'], df['Description']\n",
    "    return df "
   ]
  },
  {
   "cell_type": "markdown",
   "id": "7d7f912a",
   "metadata": {},
   "source": [
    "***Review required for functions newoemstrade and findchips***\n",
    "\n",
    "From two Dataframes generated after performing web searches within the oemstrade and findchips sites, both dataframes are merged, removing the \"Buy\" and \"Description\" columns, resulting in a single Dataframe containing information from both sites."
   ]
  },
  {
   "cell_type": "code",
   "execution_count": null,
   "id": "4b1b53f8-806a-44ee-a3b8-8ad85e106179",
   "metadata": {},
   "outputs": [],
   "source": [
    "def description_of_BPN():\n",
    "    file_from = checklastfile(dirdesc, r'\\*.xlsx')\n",
    "    dtype={\n",
    "        'Material':'str',\n",
    "        'Material_Description':'str'}\n",
    "    df = pd.read_excel(file_from,usecols='A,D',dtype=(dtype),sheet_name='Sheet1')\n",
    "    return df"
   ]
  },
  {
   "cell_type": "markdown",
   "id": "3fa00ce8-11da-4e7d-b097-e41faffa7f63",
   "metadata": {},
   "source": [
    "Using the checklastfile function and taking the most recently created Excel file from an internal file having prices from contracts, the columns \"Material\" and \"Material Description\" are extracted to create a Dataframe. This Dataframe is then linked with the previous Dataframe to attach the material description based on the Material Number."
   ]
  },
  {
   "cell_type": "markdown",
   "id": "2aaa2f9e",
   "metadata": {},
   "source": [
    "## 2.4 SMTP module"
   ]
  },
  {
   "cell_type": "markdown",
   "id": "7b1a8900",
   "metadata": {},
   "source": [
    "### Libraries imported for the functionality of sending an email using the SMTP protocol:"
   ]
  },
  {
   "cell_type": "code",
   "execution_count": null,
   "id": "33de13e6",
   "metadata": {},
   "outputs": [],
   "source": [
    "import smtplib\n",
    "import os\n",
    "import glob\n",
    "from email.mime.multipart import MIMEMultipart\n",
    "from email.mime.image import MIMEImage\n",
    "from email.mime.text import MIMEText\n",
    "from email.mime.application import MIMEApplication"
   ]
  },
  {
   "cell_type": "markdown",
   "id": "31919ecf",
   "metadata": {},
   "source": [
    "### 2.4.1 Attributes of the Email Class"
   ]
  },
  {
   "cell_type": "markdown",
   "id": "967d9236",
   "metadata": {},
   "source": [
    "Using Object-Oriented Programming, an email class is created for each object that is generated. This is an independent module from the operation of the Spot Buy program and can be used for other programs that require the use of the SMTP protocol."
   ]
  },
  {
   "cell_type": "code",
   "execution_count": null,
   "id": "2f5a5024",
   "metadata": {},
   "outputs": [],
   "source": [
    "class Email():\n",
    "    def __init__(self,sender='supplychain@bose.com',smtp_server='smtp.bose.com',port=25, receiver=['purchasing@bose.com'],msg = MIMEMultipart(),subject='Testing',body='Hello World'):\n",
    "        self.sender = sender\n",
    "        self.smtp_server = smtp_server\n",
    "        self.port = port\n",
    "        self.subject = subject\n",
    "        self.receiver = receiver        \n",
    "        self.body = body\n",
    "        self.smtpObj = smtplib.SMTP(self.smtp_server,self.port)\n",
    "        self.smtpObj.ehlo()\n",
    "        #msg initiated\n",
    "        self.msg = msg\n",
    "        self.msg['Subject'] = self.subject\n",
    "        self.msg['From'] = self.sender\n",
    "        self.msg['To'] = self.receiver[0]\n",
    "        self.msg['CC'] = ','.join(self.receiver[1:])\n",
    "\n",
    "   "
   ]
  },
  {
   "cell_type": "markdown",
   "id": "48ad5dde",
   "metadata": {},
   "source": [
    "#### The Email class has technical attributes such as the default port for the SMTP protocol, sender, recipient, message body, and additional recipients."
   ]
  },
  {
   "cell_type": "markdown",
   "id": "fd21634c-227c-4c5e-8fd4-8ae120dce3b8",
   "metadata": {},
   "source": [
    "### 2.4.1 Methods of the Email Class"
   ]
  },
  {
   "cell_type": "code",
   "execution_count": null,
   "id": "3b79f698-5636-4426-84d8-ce25293b6584",
   "metadata": {},
   "outputs": [],
   "source": [
    " def htmlandimg(self,img_logo,html_file):\n",
    "        msgImage=MIMEImage(img_logo.read())\n",
    "        msgImage.add_header('Content-ID', '<Bose_Logo_Black>')\n",
    "        msgImage.add_header('Content-Disposition','inline')\n",
    "        self.msg.attach(msgImage)\n",
    "        html_data = html_file.read()\n",
    "        html_file.close()\n",
    "        html_data = html_data.replace('{{Bose_Logo_Black}}', 'cid:Bose_Logo_Black')\n",
    "        return self.msg.attach(MIMEText(html_data,'html'))\n",
    "\n",
    "    def textfromxlsx(self,body):\n",
    "        text=body\n",
    "        fromxlsx = f'Message from excel: {text}'\n",
    "        msgtxt = MIMEText(fromxlsx,'plain')\n",
    "        msgtxt.add_header('Content-Disposition','inline')\n",
    "        return self.msg.attach(msgtxt)\n",
    "\n",
    "    def excel(self):\n",
    "        #### This could be a function, need to check \n",
    "        os.chdir(r'\\\\tj-vault\\SupplyChain\\...\\8 Spot Buy Reports')\n",
    "        newdir = os.getcwd()\n",
    "        file_type = r'\\*xlsx'\n",
    "        files = glob.glob(fr'{newdir}'+file_type)\n",
    "        file = max(files,key=os.path.getctime)\n",
    "        excel=open(file,'rb')\n",
    "        xlsx = MIMEApplication(excel.read())\n",
    "        xlsx.add_header('Content-Disposition', 'attachment',filename=file[-23:])\n",
    "        excel.close()\n",
    "        return self.msg.attach(xlsx)\n",
    "\n",
    "    def send(self):\n",
    "        text = self.msg.as_string()\n",
    "        with self.smtpObj as server:\n",
    "            server.sendmail(self.sender,self.receiver,text)\n",
    "            print('Mail sent')\n",
    "            server.quit()"
   ]
  },
  {
   "cell_type": "markdown",
   "id": "486339cd-61ba-4160-b52d-216b16de40e6",
   "metadata": {},
   "source": [
    "#### The Email class includes methods designed for various tasks:\n",
    "\n",
    "   HTML File Extraction: This method is responsible for fetching an HTML file, which is then used to craft a formatted email layout featuring the company's logo and the main body of the message.\n",
    "\n",
    "   XLSX File Attachment: Another method facilitates the extraction of an .xlsx file, allowing it to be attached directly to the email.\n",
    "\n",
    "   Send Function: The final core method incorporates the functionality of the preceding methods, collating the information and ensuring the email is dispatched appropriately."
   ]
  },
  {
   "cell_type": "markdown",
   "id": "1fba3c70-8219-4547-b7a9-43953965207c",
   "metadata": {},
   "source": [
    "# 3. Register"
   ]
  },
  {
   "cell_type": "markdown",
   "id": "066113f8-d561-4cb0-a063-46b2cc4c9e57",
   "metadata": {},
   "source": [
    "## 3.1 Register Format XSLX File"
   ]
  },
  {
   "cell_type": "markdown",
   "id": "868ffdc3-ccd1-415e-a0f9-3baa2fd472d6",
   "metadata": {},
   "source": [
    "BPN|Buyer|MFG1|MFG2|MFG3|MFG4|MFG5|MFG6|MFG7|MFG8|MFG9|MFG10\n",
    "-|-|-|-|-|-|-|-|-|-|-|-|\n",
    "Enter Bose Part Number|Enter Buyer|Enter First Part Number to Search|Enter Second Part Number|Third Part Number|Fourth Part Number|Fifth Part Number|Sixth Part Number|Seventh Part Number|Eighth Part Number|Ninth Part Number|Tenth Part Number|\n",
    "\n",
    "For recording purposes, it is essential to have part numbers and BPNs accurately written. Using the BPN, a linkage is made with other files to generate a final report with precise data.\n",
    "\n",
    "### Example:"
   ]
  },
  {
   "cell_type": "markdown",
   "id": "0e4fdf5d-9f24-4f2d-9d3b-ebc341d39b89",
   "metadata": {},
   "source": [
    "BPN|Buyer|MFG1|MFG2|MFG3|MFG4|MFG5|MFG6|MFG7|MFG8|MFG9|MFG10\n",
    "-|-|-|-|-|-|-|-|-|-|-|-|\n",
    "306003-9W5|Alex Ramirez|LM4040CIDCKR|LM4040C25IDCKT|LM4040CIM7-2.5/NOPB|LM4040CIM7X-2.5/NOPB\n",
    "738395-104M1C|Liliana Martos|C0402C104M4RAC3112|C0402C104M4RAC31127665|C0402C104M4RAC3121|C0402C104M4RAC31217665|C0402C104M4RACAUTO|C0402C104M4RACAUTO7411\n",
    "289644-001|Sergio Pedroza|LM4766T/NOPB|LM4766Y/NOPB\n"
   ]
  },
  {
   "cell_type": "markdown",
   "id": "c857cc99-bb2b-45f9-92fb-a86af99d8ecb",
   "metadata": {},
   "source": [
    "## 3.2 Register Format SMTP"
   ]
  },
  {
   "cell_type": "markdown",
   "id": "4adf880d-0e4a-459f-bb10-97ad1f8de7f2",
   "metadata": {},
   "source": [
    "From|To|CC|Subject|Body|\n",
    "-|-|-|-|-|\n",
    "Source Email|Recipient Email|Forwarding Addresses|Subject|Body|\n",
    "\n",
    "In the second spreadsheet for the email, the necessary fields are entered to send an email using the created SMTP email module. The 'body' field is used to be added in the form of a .txt within an email, so it is not the main body of the email used within the SMTP module.\n",
    "\n",
    "## Example:"
   ]
  },
  {
   "cell_type": "markdown",
   "id": "bdd244d8-9506-4401-8f3a-1a2dc208e26c",
   "metadata": {},
   "source": [
    "From|To|CC|Subject|Body|\n",
    "-|-|-|-|-|\n",
    "targetemail@bose.com|mainrecipient@bose.com|cc1@bose.com|Spot Buy List|This is an automated message from an xlsx file, please ignore.|\n",
    "-|-|cc2@bose.com|-|-|\n",
    "-|-|cc3@bose.com|-|-|\n",
    "-|-|cc4@bose.com|-|-|"
   ]
  },
  {
   "cell_type": "markdown",
   "id": "7b7d9c70-c9e7-41ea-8de2-6ea265102475",
   "metadata": {},
   "source": [
    "# 4. Data Handling"
   ]
  },
  {
   "cell_type": "markdown",
   "id": "b1aee371-71a1-4908-97a3-9fd7fdcf0275",
   "metadata": {},
   "source": [
    "Within the code, there are global variables for Dataframes manipulation obtained after searching the websites, these are:"
   ]
  },
  {
   "cell_type": "markdown",
   "id": "25dcb2eb-7ecd-4d7a-bfed-508ccf11e497",
   "metadata": {},
   "source": [
    "## 4.1 Paths Employed"
   ]
  },
  {
   "cell_type": "markdown",
   "id": "dff5d695-4795-4644-8483-59c141efded2",
   "metadata": {},
   "source": [
    "The following variables hold the paths used for execution and data manipulation:"
   ]
  },
  {
   "cell_type": "code",
   "execution_count": null,
   "id": "e3a56104-8352-43bb-9ab1-b406c2896554",
   "metadata": {},
   "outputs": [],
   "source": [
    "dirtxt=  r\"\\\\mxtjmfgflaws2\\SupplyChain\\...\\MBEW\"\n",
    "dirdesc = r'\\\\mxtjmfgflaws2\\SupplyChain\\...\\MTIJ xlsx'\n",
    "columns = ['Part #','Manufacturer','Description','Stock','Price','Buy','Distributor']\n",
    "Excel_to_read= pd.read_excel(r\"\\\\tj-vault\\SupplyChain\\...\\Spot_Buy_List.xlsx\", sheet_name='Sheet1')\n",
    "xlsxmail = pd.read_excel(r\"\\\\tj-vault\\SupplyChain\\...\\Spot_Buy_List.xlsx\", sheet_name='Sheet2')\n",
    "pathtoextract = r'\\\\mxtjmfgflaws2\\SupplyChain\\...\\MTIJ xlsx'"
   ]
  },
  {
   "cell_type": "markdown",
   "id": "ca19d18f-9097-4773-bf8b-9cdd4bf141d0",
   "metadata": {},
   "source": [
    "## 4.2 Global Variables"
   ]
  },
  {
   "cell_type": "code",
   "execution_count": null,
   "id": "a08690f4-79a7-4d25-a2bc-8471a230c662",
   "metadata": {},
   "outputs": [],
   "source": [
    "webpages = ['oemstrade','findchips']\n",
    "authdistributors = ['Authorized1', 'Authorized2', 'Authorized3','Authorized4', 'Authorized5', 'Authorized6']"
   ]
  },
  {
   "cell_type": "markdown",
   "id": "b7dd837e-be1b-40fc-947a-e54e62633612",
   "metadata": {},
   "source": [
    "# 5. Troubleshooting"
   ]
  },
  {
   "cell_type": "markdown",
   "id": "b78ae6d0-857f-4469-8827-25b2a1f3fb14",
   "metadata": {},
   "source": [
    "During the program's execution, there are static paths that, if altered, may cause errors in the program. Additionally, web scraping execution can be impacted since website elements can change due to external factors. Therefore, editing the new paths for the elements selected on a website might be necessary."
   ]
  },
  {
   "cell_type": "markdown",
   "id": "5a7fb632-ab62-4cfc-8658-19abc4a24106",
   "metadata": {},
   "source": [
    "## 5.1 Contact Information for Technical Support"
   ]
  },
  {
   "cell_type": "markdown",
   "id": "f42257d6-7fe0-4fa8-a7fb-9e02de66ccc8",
   "metadata": {},
   "source": [
    "In case of questions or information regarding this program...\n",
    "- _**Contact:**_ \n",
    "    * _Gustavo Salazar_\n",
    "    * _gs1056972@bose.com_\n"
   ]
  },
  {
   "cell_type": "markdown",
   "id": "9ad818b1-0c19-401d-95bd-95db37c72ddd",
   "metadata": {},
   "source": [
    "# 6. References"
   ]
  },
  {
   "cell_type": "markdown",
   "id": "282a4776",
   "metadata": {},
   "source": [
    "- [1] \"Anaconda | The World’s Most Popular Data Science Platform,” Anaconda. [Online]. Available: https://www.anaconda.com/. [Accessed: 03-Feb-2023]\n",
    "- [2] \"Use WebDriver to automate Microsoft Edge,” Microsoft Docs12. [Online]. Available: https://learn.microsoft.com/en-us/microsoft-edge/webdriver-chromium/?tabs=c-sharp. [Accessed: 03-Feb-2023]\n",
    "- [3] “pandas: Python Data Analysis Library,” pandas. [Online]. Available: https://pandas.pydata.org/. [Accessed: 03-Feb-2023].\n",
    "- [4] “Selenium,” Selenium. [Online]. Available: https://www.selenium.dev/. [Accessed: 03-Feb-2023].\n",
    "\n",
    "##### Code program will not be able to be executed on notebook.\n"
   ]
  }
 ],
 "metadata": {
  "hide_input": false,
  "kernelspec": {
   "display_name": "Python 3 (ipykernel)",
   "language": "python",
   "name": "python3"
  },
  "language_info": {
   "codemirror_mode": {
    "name": "ipython",
    "version": 3
   },
   "file_extension": ".py",
   "mimetype": "text/x-python",
   "name": "python",
   "nbconvert_exporter": "python",
   "pygments_lexer": "ipython3",
   "version": "3.11.5"
  }
 },
 "nbformat": 4,
 "nbformat_minor": 5
}
